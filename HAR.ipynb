{
 "cells": [
  {
   "cell_type": "code",
   "execution_count": 1,
   "metadata": {},
   "outputs": [],
   "source": [
    "## importing needed library"
   ]
  },
  {
   "cell_type": "code",
   "execution_count": 3,
   "metadata": {},
   "outputs": [],
   "source": [
    "import os\n",
    "import glob\n",
    "import random\n",
    "import numpy as np\n",
    "import pandas as pd\n",
    "\n",
    "import tensorflow_addons as tfa\n",
    "import tensorflow as tf\n",
    "from tensorflow import keras\n",
    "from keras import layers\n",
    "from keras.models import Sequential\n",
    "from keras.layers import Conv2D,MaxPooling2D,Activation, Dropout, Flatten, Dense\n",
    "from keras.preprocessing.image import ImageDataGenerator\n",
    "\n",
    "from tqdm import tqdm\n",
    "\n",
    "from PIL import Image\n",
    "from tensorflow.keras.utils import to_categorical\n",
    "\n",
    "import seaborn as sns\n",
    "import matplotlib.image as img"
   ]
  },
  {
   "cell_type": "code",
   "execution_count": 4,
   "metadata": {},
   "outputs": [
    {
     "name": "stdout",
     "output_type": "stream",
     "text": [
      "0.17.1\n"
     ]
    }
   ],
   "source": [
    "print(tfa.__version__)"
   ]
  },
  {
   "cell_type": "code",
   "execution_count": 4,
   "metadata": {},
   "outputs": [],
   "source": [
    "train_csv=pd.read_csv(\"Human Action Recognition data/Training_set.csv\")\n",
    "test_csv=pd.read_csv(\"Human Action Recognition data/Testing_set.csv\")"
   ]
  },
  {
   "cell_type": "code",
   "execution_count": null,
   "metadata": {},
   "outputs": [],
   "source": []
  },
  {
   "cell_type": "code",
   "execution_count": 5,
   "metadata": {},
   "outputs": [],
   "source": [
    "train_fol=glob.glob('Human Action Recognition data/Train/*')\n",
    "test_fol=glob.glob('Human Action Recognition data/Test/*')"
   ]
  },
  {
   "cell_type": "code",
   "execution_count": 6,
   "metadata": {},
   "outputs": [
    {
     "data": {
      "text/plain": [
       "12601"
      ]
     },
     "execution_count": 6,
     "metadata": {},
     "output_type": "execute_result"
    }
   ],
   "source": [
    "len(train_fol)"
   ]
  },
  {
   "cell_type": "code",
   "execution_count": 7,
   "metadata": {},
   "outputs": [],
   "source": [
    "filename= train_csv['filename']\n",
    "action=train_csv['label']"
   ]
  },
  {
   "cell_type": "code",
   "execution_count": 8,
   "metadata": {},
   "outputs": [],
   "source": [
    "img_data=[]\n",
    "img_label=[]\n",
    "lenght=len(train_fol)\n",
    "for i in range(len(train_fol)-1):\n",
    "    t='Human Action Recognition data/Train/' + filename[i]\n",
    "    temp_img=Image.open(t)\n",
    "    img_data.append(np.asarray(temp_img.resize((160,160))))\n",
    "    img_label.append(action[i])"
   ]
  },
  {
   "cell_type": "code",
   "execution_count": 11,
   "metadata": {},
   "outputs": [
    {
     "data": {
      "text/plain": [
       "array([[[[234, 161,  89],\n",
       "         [231, 164,  81],\n",
       "         [217, 157,  83],\n",
       "         ...,\n",
       "         [ 39,   2,   0],\n",
       "         [ 35,   0,   4],\n",
       "         [ 34,   0,  11]],\n",
       "\n",
       "        [[222, 159,  84],\n",
       "         [222, 162,  83],\n",
       "         [218, 165, 100],\n",
       "         ...,\n",
       "         [ 37,   3,   1],\n",
       "         [ 33,   0,   1],\n",
       "         [ 31,   0,   4]],\n",
       "\n",
       "        [[223, 172,  98],\n",
       "         [225, 177, 102],\n",
       "         [228, 187, 132],\n",
       "         ...,\n",
       "         [ 33,   3,   3],\n",
       "         [ 31,   1,   0],\n",
       "         [ 30,   1,   0]],\n",
       "\n",
       "        ...,\n",
       "\n",
       "        [[108, 153, 196],\n",
       "         [116, 163, 201],\n",
       "         [116, 165, 206],\n",
       "         ...,\n",
       "         [196, 146, 111],\n",
       "         [194, 144, 109],\n",
       "         [193, 143, 108]],\n",
       "\n",
       "        [[104, 149, 192],\n",
       "         [111, 160, 196],\n",
       "         [109, 161, 202],\n",
       "         ...,\n",
       "         [195, 145, 110],\n",
       "         [194, 144, 109],\n",
       "         [192, 142, 107]],\n",
       "\n",
       "        [[106, 151, 195],\n",
       "         [108, 157, 194],\n",
       "         [101, 153, 194],\n",
       "         ...,\n",
       "         [195, 145, 110],\n",
       "         [193, 143, 108],\n",
       "         [192, 142, 107]]],\n",
       "\n",
       "\n",
       "       [[[248, 248, 248],\n",
       "         [248, 248, 248],\n",
       "         [248, 248, 248],\n",
       "         ...,\n",
       "         [211, 212, 220],\n",
       "         [215, 210, 215],\n",
       "         [225, 219, 223]],\n",
       "\n",
       "        [[248, 248, 248],\n",
       "         [248, 248, 248],\n",
       "         [248, 248, 248],\n",
       "         ...,\n",
       "         [185, 185, 193],\n",
       "         [218, 213, 218],\n",
       "         [230, 223, 227]],\n",
       "\n",
       "        [[248, 250, 249],\n",
       "         [248, 250, 249],\n",
       "         [248, 250, 249],\n",
       "         ...,\n",
       "         [180, 180, 188],\n",
       "         [222, 217, 222],\n",
       "         [227, 221, 225]],\n",
       "\n",
       "        ...,\n",
       "\n",
       "        [[197, 198, 211],\n",
       "         [194, 196, 208],\n",
       "         [193, 195, 207],\n",
       "         ...,\n",
       "         [143, 135, 133],\n",
       "         [139, 131, 129],\n",
       "         [138, 130, 128]],\n",
       "\n",
       "        [[179, 181, 195],\n",
       "         [183, 185, 200],\n",
       "         [185, 187, 202],\n",
       "         ...,\n",
       "         [139, 131, 129],\n",
       "         [137, 129, 127],\n",
       "         [137, 129, 127]],\n",
       "\n",
       "        [[168, 170, 187],\n",
       "         [163, 166, 182],\n",
       "         [156, 159, 175],\n",
       "         ...,\n",
       "         [137, 129, 127],\n",
       "         [132, 124, 122],\n",
       "         [131, 123, 121]]],\n",
       "\n",
       "\n",
       "       [[[252, 252, 252],\n",
       "         [252, 252, 252],\n",
       "         [252, 252, 252],\n",
       "         ...,\n",
       "         [171, 188, 204],\n",
       "         [165, 185, 207],\n",
       "         [163, 183, 208]],\n",
       "\n",
       "        [[252, 252, 252],\n",
       "         [252, 252, 252],\n",
       "         [252, 252, 252],\n",
       "         ...,\n",
       "         [171, 188, 204],\n",
       "         [166, 185, 207],\n",
       "         [164, 184, 208]],\n",
       "\n",
       "        [[252, 252, 252],\n",
       "         [252, 252, 252],\n",
       "         [252, 252, 252],\n",
       "         ...,\n",
       "         [172, 189, 205],\n",
       "         [166, 185, 208],\n",
       "         [164, 184, 208]],\n",
       "\n",
       "        ...,\n",
       "\n",
       "        [[ 73,  64,  60],\n",
       "         [ 55,  47,  43],\n",
       "         [ 22,  16,  13],\n",
       "         ...,\n",
       "         [167, 158,  38],\n",
       "         [166, 156,  36],\n",
       "         [166, 156,  35]],\n",
       "\n",
       "        [[ 54,  45,  39],\n",
       "         [ 38,  30,  25],\n",
       "         [ 42,  36,  33],\n",
       "         ...,\n",
       "         [166, 157,  37],\n",
       "         [162, 152,  32],\n",
       "         [160, 150,  29]],\n",
       "\n",
       "        [[ 63,  54,  48],\n",
       "         [106,  98,  93],\n",
       "         [131, 125, 123],\n",
       "         ...,\n",
       "         [166, 157,  37],\n",
       "         [158, 148,  28],\n",
       "         [155, 145,  23]]],\n",
       "\n",
       "\n",
       "       ...,\n",
       "\n",
       "\n",
       "       [[[183, 176, 160],\n",
       "         [183, 176, 160],\n",
       "         [183, 176, 159],\n",
       "         ...,\n",
       "         [186, 182, 176],\n",
       "         [117, 109, 104],\n",
       "         [ 94,  87,  79]],\n",
       "\n",
       "        [[183, 176, 160],\n",
       "         [183, 176, 160],\n",
       "         [183, 176, 159],\n",
       "         ...,\n",
       "         [134, 129, 123],\n",
       "         [117, 111, 104],\n",
       "         [ 92,  85,  77]],\n",
       "\n",
       "        [[183, 176, 160],\n",
       "         [183, 176, 159],\n",
       "         [183, 176, 158],\n",
       "         ...,\n",
       "         [ 65,  60,  54],\n",
       "         [113, 106,  99],\n",
       "         [102,  95,  87]],\n",
       "\n",
       "        ...,\n",
       "\n",
       "        [[255, 255, 255],\n",
       "         [255, 255, 255],\n",
       "         [255, 255, 255],\n",
       "         ...,\n",
       "         [255, 255, 255],\n",
       "         [255, 255, 255],\n",
       "         [255, 255, 255]],\n",
       "\n",
       "        [[255, 255, 255],\n",
       "         [255, 255, 255],\n",
       "         [255, 255, 255],\n",
       "         ...,\n",
       "         [255, 255, 255],\n",
       "         [255, 255, 255],\n",
       "         [255, 255, 255]],\n",
       "\n",
       "        [[255, 255, 255],\n",
       "         [255, 255, 255],\n",
       "         [255, 255, 255],\n",
       "         ...,\n",
       "         [255, 255, 255],\n",
       "         [255, 255, 255],\n",
       "         [255, 255, 255]]],\n",
       "\n",
       "\n",
       "       [[[225, 238, 247],\n",
       "         [225, 238, 247],\n",
       "         [227, 240, 249],\n",
       "         ...,\n",
       "         [253, 253, 253],\n",
       "         [252, 252, 252],\n",
       "         [252, 252, 252]],\n",
       "\n",
       "        [[225, 238, 247],\n",
       "         [226, 239, 248],\n",
       "         [226, 239, 248],\n",
       "         ...,\n",
       "         [253, 253, 253],\n",
       "         [253, 253, 253],\n",
       "         [252, 252, 252]],\n",
       "\n",
       "        [[226, 239, 248],\n",
       "         [227, 240, 249],\n",
       "         [230, 240, 249],\n",
       "         ...,\n",
       "         [254, 254, 254],\n",
       "         [254, 254, 254],\n",
       "         [253, 253, 253]],\n",
       "\n",
       "        ...,\n",
       "\n",
       "        [[251, 251, 253],\n",
       "         [251, 251, 253],\n",
       "         [251, 251, 253],\n",
       "         ...,\n",
       "         [255, 255, 255],\n",
       "         [255, 255, 255],\n",
       "         [255, 255, 255]],\n",
       "\n",
       "        [[251, 251, 253],\n",
       "         [251, 251, 253],\n",
       "         [251, 251, 253],\n",
       "         ...,\n",
       "         [255, 255, 255],\n",
       "         [255, 255, 255],\n",
       "         [255, 255, 255]],\n",
       "\n",
       "        [[251, 251, 253],\n",
       "         [251, 251, 253],\n",
       "         [251, 251, 253],\n",
       "         ...,\n",
       "         [255, 255, 255],\n",
       "         [255, 255, 255],\n",
       "         [255, 255, 255]]],\n",
       "\n",
       "\n",
       "       [[[179, 173, 173],\n",
       "         [179, 173, 173],\n",
       "         [179, 173, 173],\n",
       "         ...,\n",
       "         [168, 162, 162],\n",
       "         [168, 162, 162],\n",
       "         [168, 162, 162]],\n",
       "\n",
       "        [[179, 173, 173],\n",
       "         [179, 173, 173],\n",
       "         [179, 173, 173],\n",
       "         ...,\n",
       "         [168, 162, 162],\n",
       "         [168, 162, 162],\n",
       "         [168, 162, 162]],\n",
       "\n",
       "        [[180, 174, 174],\n",
       "         [180, 174, 174],\n",
       "         [180, 174, 174],\n",
       "         ...,\n",
       "         [168, 162, 162],\n",
       "         [168, 162, 162],\n",
       "         [168, 162, 162]],\n",
       "\n",
       "        ...,\n",
       "\n",
       "        [[ 50,  50,  50],\n",
       "         [ 45,  45,  45],\n",
       "         [ 48,  48,  48],\n",
       "         ...,\n",
       "         [ 49,  49,  49],\n",
       "         [ 53,  53,  53],\n",
       "         [ 50,  50,  50]],\n",
       "\n",
       "        [[ 52,  52,  52],\n",
       "         [ 47,  47,  47],\n",
       "         [ 49,  49,  49],\n",
       "         ...,\n",
       "         [ 53,  53,  53],\n",
       "         [ 49,  49,  49],\n",
       "         [ 45,  45,  45]],\n",
       "\n",
       "        [[ 49,  49,  49],\n",
       "         [ 50,  50,  50],\n",
       "         [ 51,  51,  51],\n",
       "         ...,\n",
       "         [ 49,  49,  49],\n",
       "         [ 48,  48,  48],\n",
       "         [ 55,  55,  55]]]], dtype=uint8)"
      ]
     },
     "execution_count": 11,
     "metadata": {},
     "output_type": "execute_result"
    }
   ],
   "source": [
    "img_dta"
   ]
  },
  {
   "cell_type": "code",
   "execution_count": 10,
   "metadata": {},
   "outputs": [
    {
     "name": "stdout",
     "output_type": "stream",
     "text": [
      "[1. 0. 0. 0. 0. 0. 0. 0. 0. 0. 0. 0. 0. 0. 0.]\n"
     ]
    }
   ],
   "source": [
    "img_dta = img_data\n",
    "img_dta = np.asarray(img_dta)\n",
    "y_train = to_categorical(np.asarray(train_csv['label'].factorize()[0]))\n",
    "print(y_train[0])"
   ]
  },
  {
   "cell_type": "code",
   "execution_count": 23,
   "metadata": {},
   "outputs": [],
   "source": [
    "vgg_model = Sequential()\n",
    "\n",
    "trained_model= tf.keras.applications.VGG16(include_top=False,\n",
    "                   input_shape=(160,160,3),\n",
    "                   pooling='avg',classes=15,\n",
    "                   weights='imagenet',classifier_activation='softmax')\n",
    "\n",
    "for layer in trained_model.layers:\n",
    "        layer.trainable=False\n",
    "\n",
    "vgg_model.add(trained_model)\n",
    "vgg_model.add(Flatten())\n",
    "vgg_model.add(Dense(512, activation='relu'))\n",
    "vgg_model.add(Dense(15, activation='softmax'))"
   ]
  },
  {
   "cell_type": "code",
   "execution_count": 24,
   "metadata": {},
   "outputs": [],
   "source": [
    "vgg_model.compile(optimizer='adam', loss='categorical_crossentropy',metrics=['accuracy'])"
   ]
  },
  {
   "cell_type": "code",
   "execution_count": 25,
   "metadata": {},
   "outputs": [
    {
     "name": "stdout",
     "output_type": "stream",
     "text": [
      "Model: \"sequential_3\"\n",
      "_________________________________________________________________\n",
      " Layer (type)                Output Shape              Param #   \n",
      "=================================================================\n",
      " vgg16 (Functional)          (None, 512)               14714688  \n",
      "                                                                 \n",
      " flatten_1 (Flatten)         (None, 512)               0         \n",
      "                                                                 \n",
      " dense_2 (Dense)             (None, 512)               262656    \n",
      "                                                                 \n",
      " dense_3 (Dense)             (None, 15)                7695      \n",
      "                                                                 \n",
      "=================================================================\n",
      "Total params: 14,985,039\n",
      "Trainable params: 270,351\n",
      "Non-trainable params: 14,714,688\n",
      "_________________________________________________________________\n"
     ]
    }
   ],
   "source": [
    "vgg_model.summary()"
   ]
  },
  {
   "cell_type": "code",
   "execution_count": 27,
   "metadata": {},
   "outputs": [
    {
     "name": "stdout",
     "output_type": "stream",
     "text": [
      "Epoch 1/25\n",
      "394/394 [==============================] - 1966s 5s/step - loss: 2.0347 - accuracy: 0.4556\n",
      "Epoch 2/25\n",
      "394/394 [==============================] - 1895s 5s/step - loss: 1.2086 - accuracy: 0.6043\n",
      "Epoch 3/25\n",
      "394/394 [==============================] - 1876s 5s/step - loss: 0.9444 - accuracy: 0.6898\n",
      "Epoch 4/25\n",
      "394/394 [==============================] - 1852s 5s/step - loss: 0.7302 - accuracy: 0.7611\n",
      "Epoch 5/25\n",
      "394/394 [==============================] - 1792s 5s/step - loss: 0.5534 - accuracy: 0.8159\n",
      "Epoch 6/25\n",
      "394/394 [==============================] - 1792s 5s/step - loss: 0.4017 - accuracy: 0.8658\n",
      "Epoch 7/25\n",
      "394/394 [==============================] - 1798s 5s/step - loss: 0.2730 - accuracy: 0.9160\n",
      "Epoch 8/25\n",
      "394/394 [==============================] - 1805s 5s/step - loss: 0.2114 - accuracy: 0.9329\n",
      "Epoch 9/25\n",
      "394/394 [==============================] - 1809s 5s/step - loss: 0.1627 - accuracy: 0.9502\n",
      "Epoch 10/25\n",
      "394/394 [==============================] - 1818s 5s/step - loss: 0.1563 - accuracy: 0.9507\n",
      "Epoch 11/25\n",
      "394/394 [==============================] - 1820s 5s/step - loss: 0.1709 - accuracy: 0.9433\n",
      "Epoch 12/25\n",
      "394/394 [==============================] - 1813s 5s/step - loss: 0.1418 - accuracy: 0.9527\n",
      "Epoch 13/25\n",
      "394/394 [==============================] - 1811s 5s/step - loss: 0.1414 - accuracy: 0.9510\n",
      "Epoch 14/25\n",
      "394/394 [==============================] - 1812s 5s/step - loss: 0.1403 - accuracy: 0.9533\n",
      "Epoch 15/25\n",
      "394/394 [==============================] - 1823s 5s/step - loss: 0.0710 - accuracy: 0.9767\n",
      "Epoch 16/25\n",
      "394/394 [==============================] - 1860s 5s/step - loss: 0.0940 - accuracy: 0.9690\n",
      "Epoch 17/25\n",
      "394/394 [==============================] - 1875s 5s/step - loss: 0.1401 - accuracy: 0.9551\n",
      "Epoch 18/25\n",
      "394/394 [==============================] - 1965s 5s/step - loss: 0.1347 - accuracy: 0.9547\n",
      "Epoch 19/25\n",
      "394/394 [==============================] - 2029s 5s/step - loss: 0.0901 - accuracy: 0.9690\n",
      "Epoch 20/25\n",
      "394/394 [==============================] - 1962s 5s/step - loss: 0.0960 - accuracy: 0.9689\n",
      "Epoch 21/25\n",
      "394/394 [==============================] - 1901s 5s/step - loss: 0.0689 - accuracy: 0.9771\n",
      "Epoch 22/25\n",
      "394/394 [==============================] - 1981s 5s/step - loss: 0.0707 - accuracy: 0.9770\n",
      "Epoch 23/25\n",
      "394/394 [==============================] - 1900s 5s/step - loss: 0.0765 - accuracy: 0.9755\n",
      "Epoch 24/25\n",
      "394/394 [==============================] - 1858s 5s/step - loss: 0.1313 - accuracy: 0.9571\n",
      "Epoch 25/25\n",
      "394/394 [==============================] - 1853s 5s/step - loss: 0.0979 - accuracy: 0.9688\n"
     ]
    }
   ],
   "source": [
    "history = vgg_model.fit(img_dta,y_train, epochs=25)"
   ]
  },
  {
   "cell_type": "code",
   "execution_count": null,
   "metadata": {},
   "outputs": [],
   "source": []
  },
  {
   "cell_type": "code",
   "execution_count": 35,
   "metadata": {},
   "outputs": [],
   "source": [
    "#saving\n",
    "\n",
    "\n",
    "vgg16_path= os.path.join('','model_weight')\n",
    "os.makedirs(vgg16_path,exist_ok=True)\n",
    "\n",
    "with open(os.path.join(vgg16_path,'model.json'), 'w') as f:\n",
    "    f.write(vgg_model.to_json())\n",
    "    \n",
    "vgg_model.save_weights(os.path.join(vgg16_path, 'vgg_model_weight.h5'))\n",
    "\n",
    "vgg_model.save(os.path.join(vgg16_path,'full_model.h5'))"
   ]
  },
  {
   "cell_type": "code",
   "execution_count": null,
   "metadata": {},
   "outputs": [],
   "source": [
    "vgg_model.predict()"
   ]
  },
  {
   "cell_type": "code",
   "execution_count": 42,
   "metadata": {},
   "outputs": [],
   "source": [
    "filename_test=test_csv['filename']\n",
    "a=random.randint(1,100)\n",
    "img_test=[]\n",
    "t='Human Action Recognition data/test/' + filename_test[a]\n",
    "temp_img=Image.open(t)\n",
    "img_test.append(np.asarray(temp_img.resize((160,160))))\n",
    "    \n"
   ]
  },
  {
   "cell_type": "code",
   "execution_count": 44,
   "metadata": {},
   "outputs": [
    {
     "data": {
      "text/plain": [
       "([array([[[236, 240, 239],\n",
       "          [236, 240, 239],\n",
       "          [237, 240, 239],\n",
       "          ...,\n",
       "          [220, 216, 205],\n",
       "          [221, 217, 206],\n",
       "          [221, 217, 206]],\n",
       "  \n",
       "         [[245, 246, 245],\n",
       "          [244, 245, 244],\n",
       "          [244, 246, 245],\n",
       "          ...,\n",
       "          [219, 215, 204],\n",
       "          [221, 217, 206],\n",
       "          [221, 217, 206]],\n",
       "  \n",
       "         [[240, 240, 237],\n",
       "          [247, 246, 244],\n",
       "          [251, 250, 248],\n",
       "          ...,\n",
       "          [219, 215, 204],\n",
       "          [220, 216, 205],\n",
       "          [220, 216, 205]],\n",
       "  \n",
       "         ...,\n",
       "  \n",
       "         [[227, 229, 226],\n",
       "          [226, 228, 225],\n",
       "          [223, 225, 222],\n",
       "          ...,\n",
       "          [213, 209, 200],\n",
       "          [214, 210, 201],\n",
       "          [214, 210, 201]],\n",
       "  \n",
       "         [[228, 230, 227],\n",
       "          [226, 228, 225],\n",
       "          [224, 226, 223],\n",
       "          ...,\n",
       "          [214, 210, 201],\n",
       "          [215, 211, 202],\n",
       "          [215, 211, 202]],\n",
       "  \n",
       "         [[228, 230, 227],\n",
       "          [227, 229, 226],\n",
       "          [224, 226, 223],\n",
       "          ...,\n",
       "          [214, 210, 201],\n",
       "          [215, 211, 202],\n",
       "          [215, 211, 202]]], dtype=uint8)],\n",
       " 61)"
      ]
     },
     "execution_count": 44,
     "metadata": {},
     "output_type": "execute_result"
    }
   ],
   "source": [
    "img_test,a"
   ]
  },
  {
   "cell_type": "code",
   "execution_count": 48,
   "metadata": {},
   "outputs": [
    {
     "name": "stdout",
     "output_type": "stream",
     "text": [
      "1/1 [==============================] - 0s 316ms/step\n"
     ]
    },
    {
     "data": {
      "text/plain": [
       "array([[6.5076696e-05, 1.4983140e-02, 3.3593488e-01, 3.0306046e-05,\n",
       "        4.9805936e-07, 8.0662547e-04, 5.6546125e-11, 1.7190027e-11,\n",
       "        9.4573991e-03, 5.6058012e-05, 1.6837452e-08, 9.9781463e-03,\n",
       "        4.3292038e-02, 2.6626176e-10, 5.8539575e-01]], dtype=float32)"
      ]
     },
     "execution_count": 48,
     "metadata": {},
     "output_type": "execute_result"
    }
   ],
   "source": [
    "vgg_model.predict(np.asanyarray(img_test))"
   ]
  },
  {
   "cell_type": "code",
   "execution_count": 51,
   "metadata": {},
   "outputs": [],
   "source": [
    "vg16=Sequential()"
   ]
  },
  {
   "cell_type": "code",
   "execution_count": null,
   "metadata": {},
   "outputs": [],
   "source": []
  },
  {
   "cell_type": "code",
   "execution_count": null,
   "metadata": {},
   "outputs": [],
   "source": []
  },
  {
   "cell_type": "code",
   "execution_count": 55,
   "metadata": {},
   "outputs": [],
   "source": [
    "from keras.models import load_model\n",
    "model = load_model(\"model_weight/full_model.h5\")"
   ]
  },
  {
   "cell_type": "code",
   "execution_count": 56,
   "metadata": {},
   "outputs": [
    {
     "name": "stdout",
     "output_type": "stream",
     "text": [
      "1/1 [==============================] - 0s 272ms/step\n"
     ]
    },
    {
     "data": {
      "text/plain": [
       "array([[6.5076696e-05, 1.4983140e-02, 3.3593488e-01, 3.0306046e-05,\n",
       "        4.9805936e-07, 8.0662547e-04, 5.6546125e-11, 1.7190027e-11,\n",
       "        9.4573991e-03, 5.6058012e-05, 1.6837452e-08, 9.9781463e-03,\n",
       "        4.3292038e-02, 2.6626176e-10, 5.8539575e-01]], dtype=float32)"
      ]
     },
     "execution_count": 56,
     "metadata": {},
     "output_type": "execute_result"
    }
   ],
   "source": [
    "model.predict(np.asanyarray(img_test))"
   ]
  },
  {
   "cell_type": "code",
   "execution_count": null,
   "metadata": {},
   "outputs": [],
   "source": []
  }
 ],
 "metadata": {
  "kernelspec": {
   "display_name": "Python 3",
   "language": "python",
   "name": "python3"
  },
  "language_info": {
   "codemirror_mode": {
    "name": "ipython",
    "version": 3
   },
   "file_extension": ".py",
   "mimetype": "text/x-python",
   "name": "python",
   "nbconvert_exporter": "python",
   "pygments_lexer": "ipython3",
   "version": "3.8.5"
  },
  "vscode": {
   "interpreter": {
    "hash": "d7bd3733d645584fa1f20a31db13dfd2ffb25a4afb1a29f8ef9e5772f444096b"
   }
  }
 },
 "nbformat": 4,
 "nbformat_minor": 5
}
